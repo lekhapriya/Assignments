{
 "cells": [
  {
   "cell_type": "code",
   "execution_count": 2,
   "id": "e1d9e3ed",
   "metadata": {},
   "outputs": [
    {
     "name": "stdout",
     "output_type": "stream",
     "text": [
      "expected winning of round 0 = 2302.1927447874255\n"
     ]
    }
   ],
   "source": [
    "#!/usr/bin/env python3\n",
    "# -*- coding: utf-8 -*-\n",
    "\"\"\"\n",
    "Created on Mon Oct 18 16:38:15 2021\n",
    "\n",
    "@author: lekhapriyadheerajkashyap\n",
    "\"\"\"\n",
    "import numpy as np\n",
    "\n",
    "#Threshold\n",
    "th = 5886.48\n",
    "b= 0.99\n",
    "gains = np.flip(np.arange(0,7000,100)).tolist()\n",
    "wheel = np.arange(100,1200,100)\n",
    "\n",
    "exp_win = [th if gains[i]>th else 0 for i in range(len(gains)) ]\n",
    "\n",
    "for k in range(11, len(gains)):\n",
    "    y = [gains[k]+wheel[m] for m in range(len(wheel))]\n",
    "    for i in range(11):\n",
    "        temp = gains.index(y[i])\n",
    "        if gains[temp]<exp_win[temp]:\n",
    "            y[i] = exp_win[temp]\n",
    "    exp_win[k] = (np.sum(y)*b)/12\n",
    "\n",
    "print(\"expected winning of round 0 =\",exp_win[-1])"
   ]
  },
  {
   "cell_type": "code",
   "execution_count": null,
   "id": "694a8f04",
   "metadata": {},
   "outputs": [],
   "source": []
  }
 ],
 "metadata": {
  "kernelspec": {
   "display_name": "Python 3",
   "language": "python",
   "name": "python3"
  },
  "language_info": {
   "codemirror_mode": {
    "name": "ipython",
    "version": 3
   },
   "file_extension": ".py",
   "mimetype": "text/x-python",
   "name": "python",
   "nbconvert_exporter": "python",
   "pygments_lexer": "ipython3",
   "version": "3.8.8"
  }
 },
 "nbformat": 4,
 "nbformat_minor": 5
}
